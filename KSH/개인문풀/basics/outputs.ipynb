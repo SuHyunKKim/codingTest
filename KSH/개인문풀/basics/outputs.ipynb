{
 "cells": [
  {
   "cell_type": "code",
   "execution_count": 25,
   "id": "6a13df71",
   "metadata": {},
   "outputs": [
    {
     "name": "stdout",
     "output_type": "stream",
     "text": [
      "정답은7입니다\n",
      "정답은 7 입니다\n",
      "정답은    7    입니다\n",
      "정답은 7 입니다\ttap\n",
      "정답은 7 입니다\n",
      "줄바꿈\n",
      "정답은 7 입니다이어붙임\n"
     ]
    }
   ],
   "source": [
    "ans = 7\n",
    "print(\"정답은\"+str(ans)+\"입니다\")\n",
    "print(\"정답은\",ans,\"입니다\")\n",
    "print(\"정답은\", ans, \"입니다\", sep=\"    \")\n",
    "print(\"정답은\",ans,\"입니다\", end=\"\\t\")\n",
    "print(\"tap\")\n",
    "print(\"정답은\",ans,\"입니다\", end=\"\\n\")\n",
    "print(\"줄바꿈\")\n",
    "print(\"정답은\",ans,\"입니다\", end=\"\")\n",
    "print(\"이어붙임\")\n"
   ]
  },
  {
   "cell_type": "code",
   "execution_count": 27,
   "id": "0f6f9061",
   "metadata": {},
   "outputs": [
    {
     "name": "stdout",
     "output_type": "stream",
     "text": [
      "yes\n"
     ]
    }
   ],
   "source": [
    "k = [1]\n",
    "b = k[1:]\n",
    "\n",
    "if not b:\n",
    "    print(\"yes\")"
   ]
  }
 ],
 "metadata": {
  "kernelspec": {
   "display_name": "Python 3",
   "language": "python",
   "name": "python3"
  },
  "language_info": {
   "codemirror_mode": {
    "name": "ipython",
    "version": 3
   },
   "file_extension": ".py",
   "mimetype": "text/x-python",
   "name": "python",
   "nbconvert_exporter": "python",
   "pygments_lexer": "ipython3",
   "version": "3.12.9"
  }
 },
 "nbformat": 4,
 "nbformat_minor": 5
}
